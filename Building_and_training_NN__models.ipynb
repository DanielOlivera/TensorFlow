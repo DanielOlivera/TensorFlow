{
  "nbformat": 4,
  "nbformat_minor": 0,
  "metadata": {
    "colab": {
      "provenance": [],
      "authorship_tag": "ABX9TyObHXhtjU5mpq+unXXlhK8h",
      "include_colab_link": true
    },
    "kernelspec": {
      "name": "python3",
      "display_name": "Python 3"
    },
    "language_info": {
      "name": "python"
    }
  },
  "cells": [
    {
      "cell_type": "markdown",
      "metadata": {
        "id": "view-in-github",
        "colab_type": "text"
      },
      "source": [
        "<a href=\"https://colab.research.google.com/github/DanielOlivera/TensorFlow/blob/main/Building_and_training_NN__models.ipynb\" target=\"_parent\"><img src=\"https://colab.research.google.com/assets/colab-badge.svg\" alt=\"Open In Colab\"/></a>"
      ]
    },
    {
      "cell_type": "markdown",
      "source": [
        "\n",
        "## Building and training neural network models using TensorFlow 2.x\n",
        "\n",
        "You need to understand the foundational principles of machine learning (ML) and deep learning (DL) using TensorFlow 2.x. You need to know how to:\n",
        "\n",
        "•\tUse TensorFlow 2.x.\n",
        "\n",
        "•\tBuild, compile and train machine learning (ML) models using TensorFlow.\n",
        "\n",
        "•\tPreprocess data to get it ready for use in a model.\n",
        "\n",
        "•\tUse models to predict results.\n",
        "\n",
        "•\tBuild sequential models with multiple layers.\n",
        "\n",
        "•\tBuild and train models for binary classification.\n",
        "\n",
        "•\tBuild and train models for multi-class categorization.\n",
        "\n",
        "•\tPlot loss and accuracy of a trained model.\n",
        "\n",
        "•\tIdentify strategies to prevent overfitting, including augmentation and dropout.\n",
        "\n",
        "•\tUse pretrained models (transfer learning).\n",
        "\n",
        "•\tExtract features from pre-trained models.\n",
        "\n",
        "•\tEnsure that inputs to a model are in the correct shape.\n",
        "\n",
        "•\tEnsure that you can match test data to the input shape of a neural network.\n",
        "\n",
        "•\tEnsure you can match output data of a neural network to specified input shape for test data.\n",
        "\n",
        "•\tUnderstand batch loading of data.\n",
        "•\tUse callbacks to trigger the end of training cycles.\n",
        "\n",
        "•\tUse datasets from different sources.\n",
        "\n",
        "•\tUse datasets in different formats, including Json and csv.\n",
        "\n",
        "•\tUse datasets from tf.data.datasets.\n"
      ],
      "metadata": {
        "id": "nPY3sYXE3Qv9"
      }
    },
    {
      "cell_type": "code",
      "execution_count": null,
      "metadata": {
        "id": "89VsIT7Y3G5r"
      },
      "outputs": [],
      "source": []
    }
  ]
}