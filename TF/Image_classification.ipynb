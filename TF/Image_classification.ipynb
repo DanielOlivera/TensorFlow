{
  "nbformat": 4,
  "nbformat_minor": 0,
  "metadata": {
    "colab": {
      "provenance": [],
      "authorship_tag": "ABX9TyMm+NfvXoS5Gr+q+LmZ72Io",
      "include_colab_link": true
    },
    "kernelspec": {
      "name": "python3",
      "display_name": "Python 3"
    },
    "language_info": {
      "name": "python"
    }
  },
  "cells": [
    {
      "cell_type": "markdown",
      "metadata": {
        "id": "view-in-github",
        "colab_type": "text"
      },
      "source": [
        "<a href=\"https://colab.research.google.com/github/DanielOlivera/TensorFlow/blob/main/Image_classification.ipynb\" target=\"_parent\"><img src=\"https://colab.research.google.com/assets/colab-badge.svg\" alt=\"Open In Colab\"/></a>"
      ]
    },
    {
      "cell_type": "markdown",
      "source": [
        "## Image Classification\n",
        "You need to understand how to build image recognition and object detection models with deep neural networks and convolutional neural networks using TensorFlow 2.x. You need to know how to:\n",
        "*\tDefine Convolutional neural networks with Conv2D and pooling layers.\n",
        "*\tBuild and train models to process real-world image datasets.\n",
        "*\tUnderstand how to use convolutions to improve your neural network.\n",
        "*\tUse real-world images in different shapes and sizes.\n",
        "*\tUse image augmentation to prevent overfitting.\n",
        "*\tUse ImageDataGenerator.\n",
        "*\tUnderstand how ImageDataGenerator labels images based on the directory structure.\n"
      ],
      "metadata": {
        "id": "ZKEbFpn84Ugj"
      }
    },
    {
      "cell_type": "code",
      "execution_count": null,
      "metadata": {
        "id": "Ti3G4ffP4PbT"
      },
      "outputs": [],
      "source": []
    }
  ]
}