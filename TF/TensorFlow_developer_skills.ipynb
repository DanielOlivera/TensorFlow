{
  "nbformat": 4,
  "nbformat_minor": 0,
  "metadata": {
    "colab": {
      "provenance": [],
      "authorship_tag": "ABX9TyMqquMZ4BGjU38nx8xE0dkI",
      "include_colab_link": true
    },
    "kernelspec": {
      "name": "python3",
      "display_name": "Python 3"
    },
    "language_info": {
      "name": "python"
    }
  },
  "cells": [
    {
      "cell_type": "markdown",
      "metadata": {
        "id": "view-in-github",
        "colab_type": "text"
      },
      "source": [
        "<a href=\"https://colab.research.google.com/github/DanielOlivera/TensorFlow/blob/main/TensorFlow_developer_skills.ipynb\" target=\"_parent\"><img src=\"https://colab.research.google.com/assets/colab-badge.svg\" alt=\"Open In Colab\"/></a>"
      ]
    },
    {
      "cell_type": "markdown",
      "source": [
        "##TensorFlow developer skills\n",
        "\n",
        "You need to demonstrate that you understand how to develop software programs using TensorFlow and that you can find the information you need to work as an ML practitioner. You need to:\n",
        "\n",
        "* Know how to program in Python, resolve Python issues, and compile and run Python programs in PyCharm.\n",
        "* Know how to find information about TensorFlow APIs, including how to find guides and API references on tensorflow.org.\n",
        "* Know how to debug, investigate, and solve error messages from the TensorFlow API.\n",
        "* Know how to search beyond tensorflow.org, as and when necessary, to solve your TensorFlow questions.\n",
        "* Know how to create ML models using TensorFlow where the model size is reasonable for the problem being solved.\n",
        "* Know how to save ML models and check the model file size.\n",
        "* Understand the compatibility discrepancies between different versions of TensorFlow."
      ],
      "metadata": {
        "id": "KJtybHcjtWYz"
      }
    },
    {
      "cell_type": "code",
      "execution_count": null,
      "metadata": {
        "id": "j95BbcnltEAg"
      },
      "outputs": [],
      "source": []
    }
  ]
}