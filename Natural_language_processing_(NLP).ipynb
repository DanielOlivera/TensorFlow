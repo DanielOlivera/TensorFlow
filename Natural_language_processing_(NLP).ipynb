{
  "nbformat": 4,
  "nbformat_minor": 0,
  "metadata": {
    "colab": {
      "provenance": [],
      "authorship_tag": "ABX9TyPbL2DQQw1xgFYey5uQcGSv",
      "include_colab_link": true
    },
    "kernelspec": {
      "name": "python3",
      "display_name": "Python 3"
    },
    "language_info": {
      "name": "python"
    }
  },
  "cells": [
    {
      "cell_type": "markdown",
      "metadata": {
        "id": "view-in-github",
        "colab_type": "text"
      },
      "source": [
        "<a href=\"https://colab.research.google.com/github/DanielOlivera/TensorFlow/blob/main/Natural_language_processing_(NLP).ipynb\" target=\"_parent\"><img src=\"https://colab.research.google.com/assets/colab-badge.svg\" alt=\"Open In Colab\"/></a>"
      ]
    },
    {
      "cell_type": "markdown",
      "source": [
        "## Natural language processing (NLP)\n",
        "You need to understand how to use neural networks to solve natural language processing problems using TensorFlow. You need to know how to:\n",
        "*Build natural language processing systems using TensorFlow.\n",
        "*\tPrepare text to use in TensorFlow models.\n",
        "*\tBuild models that identify the category of a piece of text using binary categorization.\n",
        "*\tBuild models that identify the category of a piece of text using multi-class categorization.\n",
        "*\tUse word embeddings in your TensorFlow model.\n",
        "*\tUse LSTMs in your model to classify text for either binary or multi-class categorization.\n",
        "*\tAdd RNN and GRU layers to your model.\n",
        "*\tUse RNNS, LSTMs, GRUs and CNNs in models that work with text.\n",
        "*\tTrain LSTMs on existing text to generate text (such as songs and poetry)\n"
      ],
      "metadata": {
        "id": "o3xvo9fP41n9"
      }
    },
    {
      "cell_type": "code",
      "execution_count": null,
      "metadata": {
        "id": "cZeZfhr44ttF"
      },
      "outputs": [],
      "source": []
    }
  ]
}